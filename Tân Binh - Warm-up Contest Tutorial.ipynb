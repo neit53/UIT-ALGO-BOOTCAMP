{
 "cells": [
  {
   "cell_type": "markdown",
   "metadata": {},
   "source": [
    "# VW05p_Enrichement"
   ]
  },
  {
   "cell_type": "markdown",
   "metadata": {},
   "source": [
    "## Tóm tắt"
   ]
  },
  {
   "cell_type": "markdown",
   "metadata": {},
   "source": [
    "Cho ma trận $m * n (m * n  <= 10^{6})$, tìm ma trận con $3 * 3$ sao cho có tổng nhỏ nhất"
   ]
  },
  {
   "cell_type": "markdown",
   "metadata": {},
   "source": [
    "## Ý tưởng"
   ]
  },
  {
   "cell_type": "markdown",
   "metadata": {},
   "source": [
    "Brute force: duyệt tất cả các ô [i, j], tìm tổng của các ma trận 3 * 3 có ô trái trên là [i, j] và ô phải dưới là [i + 2, j + 2] rồi lấy tổng nhất nhỏ là kết quả. ĐPT: $O(mn)$"
   ]
  },
  {
   "cell_type": "markdown",
   "metadata": {},
   "source": [
    "## Code"
   ]
  },
  {
   "cell_type": "code",
   "execution_count": null,
   "metadata": {},
   "outputs": [],
   "source": [
    "n, m = map(int, input().split())\n",
    "\n",
    "a = []\n",
    "\n",
    "for i in range(0, n):\n",
    "    tmp = list(map(int, input().split()))\n",
    "    a.append(tmp)\n",
    "\n",
    "res = 1e6\n",
    "for i in range(0, n - 2):\n",
    "    for j in range(0, m - 2):\n",
    "        curSum = 0\n",
    "        for u in range(i, i + 3):\n",
    "            for v in range(j, j + 3):\n",
    "                curSum += a[u][v]\n",
    "        res = min(res, curSum)\n",
    "\n",
    "print(res)"
   ]
  },
  {
   "cell_type": "markdown",
   "metadata": {},
   "source": [
    "# VW04p_Checkout"
   ]
  },
  {
   "cell_type": "markdown",
   "metadata": {},
   "source": [
    "## Tóm tắt"
   ]
  },
  {
   "cell_type": "markdown",
   "metadata": {},
   "source": [
    "Cho $d, a_1, a_2, v_{max}, t_{min}$, tìm thời gian nhỏ nhất từ lúc vận tốc 0, tăng tốc lên v với gia tốc $a_1$, duy trì vận tốc này trong thời gian ít nhất $t_{min}$, giảm dần vận tốc về 0 với tổng quãng đường đi được là $d$."
   ]
  },
  {
   "cell_type": "markdown",
   "metadata": {},
   "source": [
    "## Ý tưởng"
   ]
  },
  {
   "cell_type": "markdown",
   "metadata": {},
   "source": [
    "Chia quãng đường d thành 3 đoạn s1, s2, s3 với s1 là từ lúc vận tốc bằng 0 đến lúc vận tốc là v với gia tốc là a1, s2 là quãng đường vận tốc giữ nguyên là v, s3 là quãng đường từ lúc vận tốc v giảm dần về 0 với gia tốc là a2.\n",
    "\n",
    "Ta sẽ tham lam (greedy), cho thời gian trong quãng đường s2 là $t_{min}$, sau đó tìm vận tốc v, từ vận tốc v tìm được, ta tính thời gian cho 2 quãng đường s1, s3 rồi có được kết quả.\n",
    "\n",
    "Trong trường hợp v tìm được lớn hơn $v_{max}$, ta sẽ làm ngược lại, cho vận tốc chạy trong quãng đường s2 là $v_{max}$, rồi tính thời gian trong các quãng đường s1, s2, s3.\n",
    "Các công thức vật lý được dùng: $$v = \\frac{s}{t}$$\n",
    "$$v = v_0 + at$$\n",
    "$$s = v_0t + \\frac{1}{2}at^2$$\n",
    "$$v^2 - v_0^2 = 2as$$"
   ]
  },
  {
   "cell_type": "markdown",
   "metadata": {},
   "source": [
    "Trường hợp tìm $v$ theo $t_{min}$, ta có phương trình (đặt $t = t_{min}$):\n",
    "$$s_1 + s_2 + s_3 = d$$\n",
    "$$\\Leftrightarrow \\frac{v^2}{2a_1} + vt + \\frac{v^2}{2a_2} = d$$\n",
    "$$\\Leftrightarrow v^2(\\frac{1}{2a_1} + \\frac{1}{2a_2}) + vt - d = 0$$\n",
    "Giải phương trình bậc 2, ẩn $v$, tìm nghiệm $v$ dương, với 3 hệ số của phương trình là $\\frac{1}{2a_1} + \\frac{1}{2a_2}, t, -d$, đặt $a = \\frac{1}{2a_1} + \\frac{1}{2a_2}$, ta được: \n",
    "$$v = \\frac{-t + \\sqrt{t^2 + 4ad}}{2a} $$\n",
    "là vận tốc cần tìm.\n",
    "\n",
    "Thời gian chạy trong quãng đường s1 là: $t_1=\\frac{v}{a_1}$.\n",
    "Thời gian chạy trong quãng đường s3 là: $t_3=\\frac{v}{a_2}$.\n",
    "Kết quả cần tìm là : $t_1 + t_{min} + t_3$."
   ]
  },
  {
   "cell_type": "markdown",
   "metadata": {},
   "source": [
    "Trường hợp $v$ tìm được lớn hơn $v_{max}$:\n",
    "Thời gian chạy trong quãng đường s1 là: $t_1 = \\frac{v_{max}}{a_1}$.\n",
    "Thời gian chạy trong quãng đường s3 là: $t_3 = \\frac{v_{max}}{a_2}$.\n",
    "Quãng đường s2: $s_2 = d - \\frac{v_{max}^2}{2a_1} - \\frac{v_{max}^2}{2a_2}$.\n",
    "Thời gian chạy trong quãng đường s2 là: $t_2 = \\frac{s_2}{v_{max}} = \\frac{d}{v_{max}} - \\frac{v_{max}}{2a_1} - \\frac{v_{max}}{2a_2}$.\n",
    "Kết quả cần tìm là: $t_1 + t_2 + t_3$."
   ]
  },
  {
   "cell_type": "markdown",
   "metadata": {},
   "source": [
    "## Code"
   ]
  },
  {
   "cell_type": "code",
   "execution_count": null,
   "metadata": {},
   "outputs": [],
   "source": [
    "import math\n",
    "\n",
    "d, a1, a2, v_max, t_min = map(float, input().split())\n",
    "\n",
    "a = float(1) / (a1 * 2) + float(1) / (a2 * 2)\n",
    "v = (-t_min + math.sqrt(t_min * t_min + a * d * 4)) / (a * 2)\n",
    "\n",
    "if v <= v_max:\n",
    "    res = v / a1 + v / a2 + t_min\n",
    "else:\n",
    "    res = v_max / a1 + v_max / a2 + (d / v_max - v_max / (a1 * 2) - v_max / (a2 * 2))\n",
    "\n",
    "print(round(res, 12))"
   ]
  },
  {
   "cell_type": "markdown",
   "metadata": {},
   "source": [
    "# VW07p_Vitamin"
   ]
  },
  {
   "cell_type": "markdown",
   "metadata": {},
   "source": [
    "## Tóm tắt"
   ]
  },
  {
   "cell_type": "markdown",
   "metadata": {},
   "source": [
    "Cho x và dãy n phần tử a[1 : n]. Tìm các chỉ số $i_1, i_2,..., i_k$ sao cho tổng $s[i_1] + s[i_2] + ... + s[i_k] = x$ và tổng $s' = i_1 + i_2 + ... + i_k + (k - 1)$ là nhỏ nhất với $s[i] = a[1] + a[2] + ... + a[i]$, trường hợp $i = n$ thì có thể cho $s[i] = a[1] + a[2} + ... + a[n] * j$ khi đó tổng $s'$ được cộng thêm một lượng $j - 1$. Ràng buộc: $1 \\leq n \\leq 100, 1 \\leq x \\leq 10^6, 1 \\leq a_i \\leq 1000, i = 1 \\div n$."
   ]
  },
  {
   "cell_type": "markdown",
   "metadata": {},
   "source": [
    "## Ý tưởng"
   ]
  },
  {
   "cell_type": "markdown",
   "metadata": {},
   "source": [
    "Gọi $f[t]$ tổng $s'$ nhỏ nhất sao cho $t = s[i_1] + s[i_2] + ... + s[i_k]$ với $s'$ và $t$ có các trường hợp như trên.\n",
    "Ta có:\n",
    "$f[0] = -1$ để kết quả được đồng bộ với công thức.\n",
    "$\n",
    "f[t] = min \\left\\{\n",
    "    \\begin{array}\\\\\n",
    "        f[t - s[j]] + j + 1 & \\mbox{nếu } \\ t \\geq s[j], \\ j = 1...n\\\\\n",
    "        n + \\frac{t - s[n]}{a[n]} & \\mbox{nếu } \\ t \\geq s[n], \\ t - s[n] \\ \\vdots \\ a[n]\\\\\n",
    "    \\end{array}\n",
    "\\right.\n",
    "$\n",
    "Khởi tạo $f[t]$ với giá trị vô cùng, nếu sau khi tính toán, $f[x] = \\infty$ thì xuất kết quả là -1.\n",
    "Kết quả bài toán: $f[x]$.\n",
    "ĐPT: $O(n*x)$"
   ]
  },
  {
   "cell_type": "markdown",
   "metadata": {},
   "source": [
    "## Code"
   ]
  },
  {
   "cell_type": "code",
   "execution_count": null,
   "metadata": {},
   "outputs": [],
   "source": [
    "n, x = map(int, input().split())\n",
    "a = list(map(int, input().split()))\n",
    "a = [0] + a\n",
    "s = []\n",
    "s.append(0)\n",
    "for i in range(1, n + 1):\n",
    "    s.append(s[i - 1] + a[i])\n",
    "\n",
    "INF = int(1e9)\n",
    "f = [INF] * (x + 1)\n",
    "f[0] = -1\n",
    "\n",
    "for i in range(1, x + 1):\n",
    "    if ((i - s[n] >= 0) and (i - s[n]) % a[n] == 0):\n",
    "        f[i] = min(f[i], n + (i - s[n]) // a[n])\n",
    "    for j in range(1, n + 1):\n",
    "        if (i - s[j] >= 0):\n",
    "            f[i] = min(f[i], f[i - s[j]] + j + 1)\n",
    "\n",
    "if f[x] == INF:\n",
    "    print(-1)\n",
    "else:\n",
    "    print(f[x])"
   ]
  }
 ],
 "metadata": {
  "kernelspec": {
   "display_name": "Python 3",
   "language": "python",
   "name": "python3"
  },
  "language_info": {
   "codemirror_mode": {
    "name": "ipython",
    "version": 3
   },
   "file_extension": ".py",
   "mimetype": "text/x-python",
   "name": "python",
   "nbconvert_exporter": "python",
   "pygments_lexer": "ipython3",
   "version": "3.8.5"
  }
 },
 "nbformat": 4,
 "nbformat_minor": 4
}
