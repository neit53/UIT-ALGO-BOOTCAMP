{
 "cells": [
  {
   "cell_type": "markdown",
   "metadata": {},
   "source": [
    "# Hidden words"
   ]
  },
  {
   "cell_type": "markdown",
   "metadata": {},
   "source": [
    "## Tóm tắt"
   ]
  },
  {
   "cell_type": "markdown",
   "metadata": {},
   "source": [
    "Cho bảng kí tự $M * N$ chứa các kí tự a..z. Cho Q truy vấn gồm các xâu có độ dài từ 2 đến 10 ký tự, cần kiểm tra xem S có xuất hiện trong bảng kí tự hay không (theo thứ tự từ trên xuống hoặc từ trái sang phải)."
   ]
  },
  {
   "cell_type": "markdown",
   "metadata": {},
   "source": [
    "## Ý tưởng"
   ]
  },
  {
   "cell_type": "markdown",
   "metadata": {},
   "source": [
    "- Brute force: duyệt lần lượt các truy vấn, với mỗi truy vấn, duyệt tất cả các từ có cùng độ dài trong bảng theo 2 chiều rồi kiểm tra xem từ đó có trùng với truy vấn đang xét. ĐPT $O(Q * M * N)$ -> không khả thi.\n",
    "- Cải tiến dùng tìm kiếm nhị phân: Với mỗi độ dài từ 2 đến 10, sinh tất cả các từ trong bảng lưu vào tập từ. Với mỗi xâu truy vấn, kiểm tra xem xâu có trong tập từ bằng tìm kiếm nhị phân. ĐPT: $O(10 * M * N) + O(Q * log(10 * M * N))$"
   ]
  },
  {
   "cell_type": "markdown",
   "metadata": {},
   "source": [
    "## Code"
   ]
  },
  {
   "cell_type": "code",
   "execution_count": 7,
   "metadata": {
    "scrolled": false
   },
   "outputs": [
    {
     "ename": "KeyboardInterrupt",
     "evalue": "Interrupted by user",
     "output_type": "error",
     "traceback": [
      "\u001b[1;31m---------------------------------------------------------------------------\u001b[0m",
      "\u001b[1;31mKeyboardInterrupt\u001b[0m                         Traceback (most recent call last)",
      "\u001b[1;32m<ipython-input-7-949896bc3823>\u001b[0m in \u001b[0;36m<module>\u001b[1;34m\u001b[0m\n\u001b[1;32m----> 1\u001b[1;33m \u001b[0mn\u001b[0m\u001b[1;33m,\u001b[0m \u001b[0mm\u001b[0m\u001b[1;33m,\u001b[0m \u001b[0mq\u001b[0m \u001b[1;33m=\u001b[0m \u001b[0mmap\u001b[0m\u001b[1;33m(\u001b[0m\u001b[0mint\u001b[0m\u001b[1;33m,\u001b[0m \u001b[0minput\u001b[0m\u001b[1;33m(\u001b[0m\u001b[1;33m)\u001b[0m\u001b[1;33m.\u001b[0m\u001b[0msplit\u001b[0m\u001b[1;33m(\u001b[0m\u001b[1;33m)\u001b[0m\u001b[1;33m)\u001b[0m\u001b[1;33m\u001b[0m\u001b[1;33m\u001b[0m\u001b[0m\n\u001b[0m\u001b[0;32m      2\u001b[0m \u001b[0ms\u001b[0m \u001b[1;33m=\u001b[0m \u001b[1;33m[\u001b[0m\u001b[1;33m]\u001b[0m\u001b[1;33m\u001b[0m\u001b[1;33m\u001b[0m\u001b[0m\n\u001b[0;32m      3\u001b[0m \u001b[1;32mfor\u001b[0m \u001b[0mi\u001b[0m \u001b[1;32min\u001b[0m \u001b[0mrange\u001b[0m\u001b[1;33m(\u001b[0m\u001b[0mn\u001b[0m\u001b[1;33m)\u001b[0m\u001b[1;33m:\u001b[0m\u001b[1;33m\u001b[0m\u001b[1;33m\u001b[0m\u001b[0m\n\u001b[0;32m      4\u001b[0m     \u001b[0ms\u001b[0m\u001b[1;33m.\u001b[0m\u001b[0mappend\u001b[0m\u001b[1;33m(\u001b[0m\u001b[0minput\u001b[0m\u001b[1;33m(\u001b[0m\u001b[1;33m)\u001b[0m\u001b[1;33m)\u001b[0m\u001b[1;33m\u001b[0m\u001b[1;33m\u001b[0m\u001b[0m\n\u001b[0;32m      5\u001b[0m \u001b[1;33m\u001b[0m\u001b[0m\n",
      "\u001b[1;32m~\\anaconda3\\lib\\site-packages\\ipykernel\\kernelbase.py\u001b[0m in \u001b[0;36mraw_input\u001b[1;34m(self, prompt)\u001b[0m\n\u001b[0;32m    858\u001b[0m                 \u001b[1;34m\"raw_input was called, but this frontend does not support input requests.\"\u001b[0m\u001b[1;33m\u001b[0m\u001b[1;33m\u001b[0m\u001b[0m\n\u001b[0;32m    859\u001b[0m             )\n\u001b[1;32m--> 860\u001b[1;33m         return self._input_request(str(prompt),\n\u001b[0m\u001b[0;32m    861\u001b[0m             \u001b[0mself\u001b[0m\u001b[1;33m.\u001b[0m\u001b[0m_parent_ident\u001b[0m\u001b[1;33m,\u001b[0m\u001b[1;33m\u001b[0m\u001b[1;33m\u001b[0m\u001b[0m\n\u001b[0;32m    862\u001b[0m             \u001b[0mself\u001b[0m\u001b[1;33m.\u001b[0m\u001b[0m_parent_header\u001b[0m\u001b[1;33m,\u001b[0m\u001b[1;33m\u001b[0m\u001b[1;33m\u001b[0m\u001b[0m\n",
      "\u001b[1;32m~\\anaconda3\\lib\\site-packages\\ipykernel\\kernelbase.py\u001b[0m in \u001b[0;36m_input_request\u001b[1;34m(self, prompt, ident, parent, password)\u001b[0m\n\u001b[0;32m    902\u001b[0m             \u001b[1;32mexcept\u001b[0m \u001b[0mKeyboardInterrupt\u001b[0m\u001b[1;33m:\u001b[0m\u001b[1;33m\u001b[0m\u001b[1;33m\u001b[0m\u001b[0m\n\u001b[0;32m    903\u001b[0m                 \u001b[1;31m# re-raise KeyboardInterrupt, to truncate traceback\u001b[0m\u001b[1;33m\u001b[0m\u001b[1;33m\u001b[0m\u001b[1;33m\u001b[0m\u001b[0m\n\u001b[1;32m--> 904\u001b[1;33m                 \u001b[1;32mraise\u001b[0m \u001b[0mKeyboardInterrupt\u001b[0m\u001b[1;33m(\u001b[0m\u001b[1;34m\"Interrupted by user\"\u001b[0m\u001b[1;33m)\u001b[0m \u001b[1;32mfrom\u001b[0m \u001b[1;32mNone\u001b[0m\u001b[1;33m\u001b[0m\u001b[1;33m\u001b[0m\u001b[0m\n\u001b[0m\u001b[0;32m    905\u001b[0m             \u001b[1;32mexcept\u001b[0m \u001b[0mException\u001b[0m \u001b[1;32mas\u001b[0m \u001b[0me\u001b[0m\u001b[1;33m:\u001b[0m\u001b[1;33m\u001b[0m\u001b[1;33m\u001b[0m\u001b[0m\n\u001b[0;32m    906\u001b[0m                 \u001b[0mself\u001b[0m\u001b[1;33m.\u001b[0m\u001b[0mlog\u001b[0m\u001b[1;33m.\u001b[0m\u001b[0mwarning\u001b[0m\u001b[1;33m(\u001b[0m\u001b[1;34m\"Invalid Message:\"\u001b[0m\u001b[1;33m,\u001b[0m \u001b[0mexc_info\u001b[0m\u001b[1;33m=\u001b[0m\u001b[1;32mTrue\u001b[0m\u001b[1;33m)\u001b[0m\u001b[1;33m\u001b[0m\u001b[1;33m\u001b[0m\u001b[0m\n",
      "\u001b[1;31mKeyboardInterrupt\u001b[0m: Interrupted by user"
     ]
    }
   ],
   "source": [
    "n, m, q = map(int, input().split())\n",
    "s = []\n",
    "for i in range(n):\n",
    "    s.append(input())\n",
    "\n",
    "str_set = [set()] * 11\n",
    "for l in range(2, 11):\n",
    "    #Horizontal\n",
    "    for i in range(n):\n",
    "        for j in range(m - l + 1):\n",
    "            str_set[l].add(s[i][j : j + l - 1])\n",
    "\n",
    "    #Vertical\n",
    "    for i in range(m):\n",
    "        for j in range(n - l + 1):\n",
    "            tmp = ''\n",
    "            for k in range(l):\n",
    "                tmp += s[j + k][i]\n",
    "            str_set[l].add(tmp)\n",
    "\n",
    "for l in range(2, 11):\n",
    "    sorted(str_set[l])\n",
    "\n",
    "while q:\n",
    "    q -= 1\n",
    "    qr = input()\n",
    "    l = len(qr)\n",
    "    if qr in str_set[l]:\n",
    "        print(1, end = '')\n",
    "    else:\n",
    "        print(0, end = '')\n"
   ]
  },
  {
   "cell_type": "markdown",
   "metadata": {},
   "source": [
    "# True expression"
   ]
  },
  {
   "cell_type": "markdown",
   "metadata": {},
   "source": [
    "## Tóm tắt"
   ]
  },
  {
   "cell_type": "markdown",
   "metadata": {},
   "source": [
    "Cho N và S. Thêm dấu \"+' hoặc '-' trước mỗi số trong dãy 1..N để tạo thành biểu thức có giá trị là S. Nếu không có đạp án, ghi \"NO_SOLUTION\""
   ]
  },
  {
   "cell_type": "markdown",
   "metadata": {},
   "source": [
    "## Ý tưởng"
   ]
  },
  {
   "cell_type": "markdown",
   "metadata": {},
   "source": [
    "- Giả sử điền tất cả dấu '+' vào trước mỗi số, ta có $sum = \\frac{N * (N + 1)}{2}$.\n",
    "Nếu sum > S, bài toán không có đáp án, ghi \"NO_SOLUTION\".\n",
    "- Nếu ta thêm dấu '-' vào trước giá trị x nào đó, thì biểu thức có giá trị $sum' = sum - 2 * x$.\n",
    "Ta cần tìm một dãy các giá trị $x_1, x_2,...,x_k$ để điền các dấu '-' sao cho biểu thức có giá trị là S, khi đó $$sum - 2 * x_1 - 2 * x_2 - ... - 2 * x_k = S\\\\ \\Leftrightarrow \\frac{sum - S}{2} = x_1 + x_2 + ... + x_n$$. Như vậy, bài toán có đáp án khi $sum - s \\ \\vdots \\ 2$.\n",
    "- Giả sử bài toán có đáp án, ta có $sub = \\frac{sum - S}{2}$, ta trừ sub cho 1, 2,..., n đến khi sub <= 0. Nếu sub = 0 thì dấu '-' được điền cho các số từ 1 đến số đang xét, dấu '+' cho các số còn lại. Nếu sub < 0, ta cần cộng thêm một số $x = -sub$, khi đó ta sẽ điền dấu '+' cho x. Đáp án bài toán là dấu '-' được điền cho các số từ 1 đến số đang xét (ngoại trừ x được điền dâu '+'), và dấu '+' cho các số còn lại."
   ]
  },
  {
   "cell_type": "markdown",
   "metadata": {},
   "source": [
    "## Code"
   ]
  },
  {
   "cell_type": "code",
   "execution_count": 2,
   "metadata": {
    "scrolled": true
   },
   "outputs": [
    {
     "name": "stdout",
     "output_type": "stream",
     "text": [
      "5 7\n",
      "-+-++"
     ]
    }
   ],
   "source": [
    "n, s = map(int, input().split())\n",
    "\n",
    "sum = n * (n + 1) // 2\n",
    "\n",
    "if sum - s < 0 or (sum - s) % 2 == 1:\n",
    "    print('NO_SOLUTION')\n",
    "    exit()\n",
    "\n",
    "sub = (sum - s) // 2\n",
    "for i in range(1, n + 1):\n",
    "    sub -= i\n",
    "    if sub <= 0:\n",
    "        for j in range(1, i + 1):\n",
    "            if j == -sub:\n",
    "                print('+', end = '')\n",
    "            else:\n",
    "                print('-', end = '')\n",
    "        for j in range(i + 1, n + 1):\n",
    "            print('+', end = '')\n",
    "        break"
   ]
  },
  {
   "cell_type": "markdown",
   "metadata": {},
   "source": [
    "# Top k hits"
   ]
  },
  {
   "cell_type": "markdown",
   "metadata": {},
   "source": [
    "## Tóm tắt"
   ]
  },
  {
   "cell_type": "markdown",
   "metadata": {},
   "source": [
    "Cho dãy N phần tử có giá trị ban đầu là 0. Thực hiện Q truy vẫn, mỗi truy vấn có 2 dạng:\n",
    "- $1 \\ left \\ right \\ v$: tăng các giá trị trong đoạn [left, right] lên v đơn vị.\n",
    "- $2 \\ k$: cho biết k giá trị lớn nhất trong dãy."
   ]
  },
  {
   "cell_type": "markdown",
   "metadata": {},
   "source": [
    "**Ràng buộc**:\n",
    "- $1 \\leq N, Q \\leq 50000$\n",
    "- $1 \\leq l \\leq r \\leq N$\n",
    "- $-10^9 \\leq v \\leq 10^9$\n",
    "- $1 \\leq k \\leq 5$"
   ]
  },
  {
   "cell_type": "markdown",
   "metadata": {},
   "source": [
    "## Ý tưởng"
   ]
  },
  {
   "cell_type": "markdown",
   "metadata": {},
   "source": [
    "Sử dụng CTDL *Segment tree* với mỗi *node* lưu dãy 5 giá trị lớn nhất của đoạn mà *node* đó quản lí.\n",
    "Ở truy vấn loại 1, ta cần *update* đoạn [left, right], vì vậy ta nên sử dụng kĩ thuật *Lazy Propagation* để giảm độ phức tạp."
   ]
  },
  {
   "cell_type": "markdown",
   "metadata": {},
   "source": [
    "## Code"
   ]
  },
  {
   "cell_type": "code",
   "execution_count": null,
   "metadata": {},
   "outputs": [],
   "source": [
    "n, q = map(int, input().split())\n",
    "\n",
    "tree = [{()} for lp in range(50000 * 4 + 10)]\n",
    "lazy = [(0) for lp in range(50000 * 4 + 10)]\n",
    "\n",
    "def merge(i):\n",
    "    tree[i] = tree[i << 1] | tree[i << 1 | 1]\n",
    "    while len(tree[i]) > 5:\n",
    "        (tree[i]).remove(min(tree[i]))\n",
    "        \n",
    "def init(i, l, r):\n",
    "    if l == r:\n",
    "        tree[i].clear()\n",
    "        tree[i].add((0, l))\n",
    "        return\n",
    "\n",
    "    m = (l + r) >> 1\n",
    "\n",
    "    build(i << 1, l, m)\n",
    "    build(i << 1 | 1, m + 1, r)\n",
    "\n",
    "    merge(i)\n",
    "\n",
    "\n",
    "def addValue(i, val):\n",
    "    tmp = {()}\n",
    "    tmp.clear()\n",
    "    while len(tree[i]) > 0:\n",
    "        v_tmp = tree[i].pop()\n",
    "        tmp.add((v_tmp[0] + val, v_tmp[1]))\n",
    "    return tmp\n",
    "\n",
    "\n",
    "def down(i):\n",
    "    lazy[i << 1] += lazy[i]\n",
    "    lazy[i << 1 | 1] += lazy[i]\n",
    "\n",
    "    tree[i<<1] = addValue(i << 1, lazy[i])\n",
    "    tree[i<<1|1] = addValue(i << 1 | 1, lazy[i])\n",
    "\n",
    "    lazy[i] = 0\n",
    "\n",
    "\n",
    "def update(i, l, r, u, v, val):\n",
    "    if l > v or r < u:\n",
    "        return\n",
    "    if u <= l and r <= v:\n",
    "        lazy[i] += val\n",
    "        tree[i] = addValue(i, val)\n",
    "        return\n",
    "\n",
    "    m = (l + r) >> 1\n",
    "    if lazy[i]!=0:\n",
    "        down(i)\n",
    "    update(i << 1, l, m, u, v, val)\n",
    "    update(i << 1 | 1, m + 1, r, u, v, val)\n",
    "\n",
    "    merge(i)\n",
    "\n",
    "\n",
    "init(1, 1, n)\n",
    "for query_ in range(q):\n",
    "    inp_ = input().split()\n",
    "    typ = int(inp_[0])\n",
    "    if typ == 1:\n",
    "        lef = int(inp_[1])\n",
    "        rig = int(inp_[2])\n",
    "        val = int(inp_[3])\n",
    "        update(1, 1, n, lef, rig, val)\n",
    "    else:\n",
    "        k = int(inp_[1])\n",
    "        seg = sorted(tree[1], reverse=True)\n",
    "        for i in range(min(k, n)):\n",
    "            print(seg[i][1], end=' ')\n",
    "        print()"
   ]
  },
  {
   "cell_type": "markdown",
   "metadata": {},
   "source": [
    "# Splitting carrots"
   ]
  },
  {
   "cell_type": "markdown",
   "metadata": {},
   "source": [
    "## Tóm tắt"
   ]
  },
  {
   "cell_type": "markdown",
   "metadata": {},
   "source": [
    "Cho dãy số nguyên dương $a_i$ gồm N phần tử, cần tìm số lượng ít nhất các phần tử sao cho khi loại bỏ các phần tử này, thì dãy còn lại không thể chia thành 2 phần bằng nhau."
   ]
  },
  {
   "cell_type": "markdown",
   "metadata": {},
   "source": [
    "**Ràng buộc**\n",
    "- $1 \\leq N \\leq 100$\n",
    "- $0 < a_i \\leq 2000$"
   ]
  },
  {
   "cell_type": "markdown",
   "metadata": {},
   "source": [
    "## Ý tưởng"
   ]
  },
  {
   "cell_type": "markdown",
   "metadata": {},
   "source": [
    "Gọi S là tổng của dãy.\n",
    "- Nếu S là số lẻ thì không thể chia dãy thành 2 phần bằng nhau, vậy kết quả bài toán là 0.\n",
    "- Nếu S là số chẵn và trong dãy có phần tử lẻ thì khi ta loại bỏ đi phần tử này này thì dãy còn lại có tổng là lẻ nên không thể chia 2 thành phần bằng nhau. Kết quả bài toán là phần tử lẻ đó.\n",
    "- Nếu S là số chẵn và các phần tử trong dãy đều là số chẵn:\n",
    "    - Dãy sau khi chia thành 2 phần bằng nhau có tổng là $\\frac{S}{2}$ là số chẵn vì các số trong dãy đều là số chẵn.\n",
    "    - Suy ra tồn tại các chia dãy $b_i = \\frac{a_i}{2}$ thành 2 phần bằng nhau với mỗi phần có tổng là $\\frac{S}{2}, cách chia này cũng là cách chia cho dãy $a$.\n",
    "    - Tương tự với dãy có tổng là $\\frac{S}{4}, \\ \\frac{S}{8},...$.\n",
    "    - Vậy ta cần chia dãy cho 2 đến khi nào xuất hiện số lẻ và đó là số tương ứng với dãy ban đầu cần loại bỏ."
   ]
  },
  {
   "cell_type": "markdown",
   "metadata": {},
   "source": [
    "## Code"
   ]
  },
  {
   "cell_type": "code",
   "execution_count": null,
   "metadata": {},
   "outputs": [],
   "source": [
    "n = int(input())\n",
    "a = [int(s) for s in input().split()]\n",
    "\n",
    "sum = 0\n",
    "ans = -1\n",
    "for i in a:\n",
    "    sum += i\n",
    "if (sum % 2 == 1):\n",
    "    print(0)\n",
    "    exit()\n",
    "\n",
    "dp = 1 \n",
    "for i in a:\n",
    "    dp |= (dp << i)\n",
    "if ((dp >> (sum >> 1)) & 1) == 0:\n",
    "    print(0)\n",
    "    exit()\n",
    "\n",
    "cur_min = 100\n",
    "ans = 0\n",
    "for i in range(n):\n",
    "    cnt_div_2 = 0\n",
    "    while a[i] % 2 == 0:\n",
    "        cnt_div_2 += 1\n",
    "        a[i] = a[i] // 2\n",
    "    if cnt_div_2 < cur_min:\n",
    "        cur_min = cnt_div_2\n",
    "        ans = i\n",
    "print(1)\n",
    "print(ans + 1)"
   ]
  },
  {
   "cell_type": "markdown",
   "metadata": {},
   "source": [
    "# Minesweeper"
   ]
  },
  {
   "cell_type": "markdown",
   "metadata": {},
   "source": [
    "## Tóm tắt"
   ]
  },
  {
   "cell_type": "markdown",
   "metadata": {},
   "source": [
    "Dựa trên trò chơi Minesweeper (Dò mìn). Cho ma trận $a$ kích thước $N * M$, $a[i][j]$ là số bom xung quanh nó (các ô xung quanh là cái ô (x, y) sao cho $|x - i| + |y - j| = 1$), xuất ra ma trận $b$ với ý nghĩa:\n",
    "- $b[i][j] = 0$: ô không có bom.\n",
    "- $b[i][j] = 1$: ô có bom."
   ]
  },
  {
   "cell_type": "markdown",
   "metadata": {},
   "source": [
    "## Ý tưởng"
   ]
  },
  {
   "cell_type": "markdown",
   "metadata": {},
   "source": [
    "Dữ liệu có giới hạn khá nhỏ nên ta sẽ quay lui tìm cấu hình thoả mãn: \n",
    "- Sinh dãy nhị phân ở hàng 1 $(b[1][j])$ với ý nghĩa 0 là không có bom, 1 là có bom.\n",
    "- Từ hàng 1, ta loang ra các ô dưới dựa vào cấu hình các ô trước và bảng $a$."
   ]
  },
  {
   "cell_type": "markdown",
   "metadata": {},
   "source": [
    "## Code"
   ]
  },
  {
   "cell_type": "code",
   "execution_count": 6,
   "metadata": {},
   "outputs": [
    {
     "name": "stdout",
     "output_type": "stream",
     "text": [
      "4 4 \n",
      "2 0 1 1\n",
      "0 2 1 0\n",
      "1 1 1 2\n",
      "1 1 2 1\n"
     ]
    }
   ],
   "source": [
    "n, m = map(int, input().split())\n",
    "a = [[int(0) for j in range(m)] for i in range(n)]\n",
    "b = [[int(j) for j in input().split()] for i in range(n)]\n",
    "found = [0, 0]\n",
    "\n",
    "def adj(i,j):\n",
    "    cnt = 0\n",
    "    if i > 0:\n",
    "        cnt += a[i-1][j]\n",
    "    if i < n-1:\n",
    "        cnt += a[i+1][j]\n",
    "    if j > 0:\n",
    "        cnt += a[i][j-1]\n",
    "    if j < m-1:\n",
    "        cnt += a[i][j+1]\n",
    "    return cnt\n",
    "\n",
    "def check():\n",
    "    for i in range(1,n):\n",
    "        for j in range(m):\n",
    "            tmp = adj(i-1,j) - a[i][j]\n",
    "            a[i][j] = b[i-1][j] - tmp\n",
    "            if a[i][j] < 0 or a[i][j] >= 2:\n",
    "                return 0\n",
    "            if adj(i-1,j) != b[i - 1][j]:\n",
    "                return 0\n",
    "    for i in range(n):\n",
    "        for j in range(m):\n",
    "            if adj(i, j) != b[i][j]:\n",
    "                return 0\n",
    "    return 1\n",
    "\n",
    "def printRes():\n",
    "    for i in range(n):\n",
    "        for j in range(m):\n",
    "            print(a[i][j], end = ' ')\n",
    "        print()\n",
    "\n",
    "def att(v):\n",
    "    if found[0]: \n",
    "        return\n",
    "    for i in range(2):\n",
    "        if found[0]:\n",
    "            return\n",
    "        a[1][v] = i\n",
    "        if v > 0 and b[1][v] - a[1][v - 1] < 0:\n",
    "            continue\n",
    "        if v == m-1:\n",
    "            found[0] = check()\n",
    "            if found[0]:\n",
    "                printRes()\n",
    "        else:\n",
    "            att(v+1)\n",
    "                \n",
    "                \n",
    "att(0)"
   ]
  }
 ],
 "metadata": {
  "kernelspec": {
   "display_name": "Python 3",
   "language": "python",
   "name": "python3"
  },
  "language_info": {
   "codemirror_mode": {
    "name": "ipython",
    "version": 3
   },
   "file_extension": ".py",
   "mimetype": "text/x-python",
   "name": "python",
   "nbconvert_exporter": "python",
   "pygments_lexer": "ipython3",
   "version": "3.8.5"
  }
 },
 "nbformat": 4,
 "nbformat_minor": 4
}
